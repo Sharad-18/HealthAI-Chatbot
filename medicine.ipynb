{
  "cells": [
    {
      "cell_type": "code",
      "execution_count": 3,
      "metadata": {
        "id": "STnxKawS6A0b"
      },
      "outputs": [],
      "source": [
        "import pandas as pd\n"
      ]
    },
    {
      "cell_type": "code",
      "execution_count": 4,
      "metadata": {
        "id": "XZpBzqsy6YdX"
      },
      "outputs": [],
      "source": [
        "sym_des = pd.read_csv(\"datasets/symtoms_df.csv\")\n",
        "precautions = pd.read_csv(\"datasets/precautions_df.csv\")\n",
        "workout = pd.read_csv(\"datasets/workout_df.csv\")\n",
        "description = pd.read_csv(\"datasets/description.csv\")\n",
        "medications = pd.read_csv('datasets/medications.csv')\n",
        "diets = pd.read_csv(\"datasets/diets.csv\")"
      ]
    },
    {
      "cell_type": "code",
      "execution_count": 8,
      "metadata": {
        "colab": {
          "base_uri": "https://localhost:8080/"
        },
        "id": "1U4TOUP-70gO",
        "outputId": "f0981e3f-fc2f-494c-9427-f8eabd8e83b6"
      },
      "outputs": [
        {
          "data": {
            "text/plain": [
              "(4920, 133)"
            ]
          },
          "execution_count": 8,
          "metadata": {},
          "output_type": "execute_result"
        }
      ],
      "source": [
        "dataset=pd.read_csv('datasets/Training.csv')\n",
        "dataset.shape"
      ]
    },
    {
      "cell_type": "code",
      "execution_count": 9,
      "metadata": {
        "colab": {
          "base_uri": "https://localhost:8080/"
        },
        "id": "RKYg46Ui8DNZ",
        "outputId": "cfc3042f-a87d-40af-f576-aee3d24ed0dc"
      },
      "outputs": [
        {
          "data": {
            "text/plain": [
              "41"
            ]
          },
          "execution_count": 9,
          "metadata": {},
          "output_type": "execute_result"
        }
      ],
      "source": [
        "dataset['prognosis'].nunique()"
      ]
    },
    {
      "cell_type": "code",
      "execution_count": 10,
      "metadata": {
        "id": "WDvSw2X_8PZj"
      },
      "outputs": [],
      "source": [
        "from sklearn.model_selection import train_test_split\n",
        "from sklearn.preprocessing import LabelEncoder"
      ]
    },
    {
      "cell_type": "code",
      "execution_count": 11,
      "metadata": {
        "id": "QqBM8hXe8Uj1"
      },
      "outputs": [],
      "source": [
        "X = dataset.drop('prognosis', axis=1)\n",
        "y = dataset['prognosis']\n",
        "\n",
        "# ecoding prognonsis\n",
        "le = LabelEncoder()\n",
        "le.fit(y)\n",
        "Y = le.transform(y)\n",
        "\n",
        "X_train, X_test, y_train, y_test = train_test_split(X, Y, test_size=0.3, random_state=20)"
      ]
    },
    {
      "cell_type": "code",
      "execution_count": 12,
      "metadata": {
        "id": "wYiF-kSD8gg1"
      },
      "outputs": [],
      "source": [
        "from sklearn.datasets import make_classification\n",
        "from sklearn.model_selection import train_test_split\n",
        "from sklearn.svm import SVC\n",
        "from sklearn.ensemble import RandomForestClassifier,GradientBoostingClassifier\n",
        "from sklearn.neighbors import KNeighborsClassifier\n",
        "from sklearn.naive_bayes import MultinomialNB\n",
        "from sklearn.metrics import accuracy_score,confusion_matrix\n",
        "import numpy as np"
      ]
    },
    {
      "cell_type": "code",
      "execution_count": 13,
      "metadata": {
        "colab": {
          "base_uri": "https://localhost:8080/"
        },
        "id": "15NIcR_49_90",
        "outputId": "cff15350-fc35-4164-c566-8a43c4b39713"
      },
      "outputs": [
        {
          "name": "stdout",
          "output_type": "stream",
          "text": [
            "SVC Accuracy: 1.0\n",
            "SVC Confusion Matrix:\n",
            "[[40,  0,  0, ...,  0,  0,  0],\n",
            " [ 0, 43,  0, ...,  0,  0,  0],\n",
            " [ 0,  0, 28, ...,  0,  0,  0],\n",
            " ...,\n",
            " [ 0,  0,  0, ..., 34,  0,  0],\n",
            " [ 0,  0,  0, ...,  0, 41,  0],\n",
            " [ 0,  0,  0, ...,  0,  0, 31]]\n",
            "\n",
            "========================================\n",
            "\n",
            "RandomForest Accuracy: 1.0\n",
            "RandomForest Confusion Matrix:\n",
            "[[40,  0,  0, ...,  0,  0,  0],\n",
            " [ 0, 43,  0, ...,  0,  0,  0],\n",
            " [ 0,  0, 28, ...,  0,  0,  0],\n",
            " ...,\n",
            " [ 0,  0,  0, ..., 34,  0,  0],\n",
            " [ 0,  0,  0, ...,  0, 41,  0],\n",
            " [ 0,  0,  0, ...,  0,  0, 31]]\n",
            "\n",
            "========================================\n",
            "\n",
            "GradientBoosting Accuracy: 1.0\n",
            "GradientBoosting Confusion Matrix:\n",
            "[[40,  0,  0, ...,  0,  0,  0],\n",
            " [ 0, 43,  0, ...,  0,  0,  0],\n",
            " [ 0,  0, 28, ...,  0,  0,  0],\n",
            " ...,\n",
            " [ 0,  0,  0, ..., 34,  0,  0],\n",
            " [ 0,  0,  0, ...,  0, 41,  0],\n",
            " [ 0,  0,  0, ...,  0,  0, 31]]\n",
            "\n",
            "========================================\n",
            "\n",
            "KNeighbors Accuracy: 1.0\n",
            "KNeighbors Confusion Matrix:\n",
            "[[40,  0,  0, ...,  0,  0,  0],\n",
            " [ 0, 43,  0, ...,  0,  0,  0],\n",
            " [ 0,  0, 28, ...,  0,  0,  0],\n",
            " ...,\n",
            " [ 0,  0,  0, ..., 34,  0,  0],\n",
            " [ 0,  0,  0, ...,  0, 41,  0],\n",
            " [ 0,  0,  0, ...,  0,  0, 31]]\n",
            "\n",
            "========================================\n",
            "\n",
            "MultinomialNB Accuracy: 1.0\n",
            "MultinomialNB Confusion Matrix:\n",
            "[[40,  0,  0, ...,  0,  0,  0],\n",
            " [ 0, 43,  0, ...,  0,  0,  0],\n",
            " [ 0,  0, 28, ...,  0,  0,  0],\n",
            " ...,\n",
            " [ 0,  0,  0, ..., 34,  0,  0],\n",
            " [ 0,  0,  0, ...,  0, 41,  0],\n",
            " [ 0,  0,  0, ...,  0,  0, 31]]\n",
            "\n",
            "========================================\n",
            "\n"
          ]
        }
      ],
      "source": [
        "models = {\n",
        "    'SVC': SVC(kernel='linear'),\n",
        "    'RandomForest': RandomForestClassifier(n_estimators=100, random_state=42),\n",
        "    'GradientBoosting': GradientBoostingClassifier(n_estimators=100, random_state=42),\n",
        "    'KNeighbors': KNeighborsClassifier(n_neighbors=5),\n",
        "    'MultinomialNB': MultinomialNB()\n",
        "}\n",
        "\n",
        "# Loop through the models, train, test, and print results\n",
        "for model_name, model in models.items():\n",
        "    # Train the model\n",
        "    model.fit(X_train, y_train)\n",
        "\n",
        "    # Test the model\n",
        "    predictions = model.predict(X_test)\n",
        "\n",
        "    # Calculate accuracy\n",
        "    accuracy = accuracy_score(y_test, predictions)\n",
        "    print(f\"{model_name} Accuracy: {accuracy}\")\n",
        "\n",
        "    # Calculate confusion matrix\n",
        "    cm = confusion_matrix(y_test, predictions)\n",
        "    print(f\"{model_name} Confusion Matrix:\")\n",
        "    print(np.array2string(cm, separator=', '))\n",
        "\n",
        "    print(\"\\n\" + \"=\"*40 + \"\\n\")"
      ]
    },
    {
      "cell_type": "code",
      "execution_count": 14,
      "metadata": {
        "colab": {
          "base_uri": "https://localhost:8080/"
        },
        "id": "xJJDnMqg_DDB",
        "outputId": "f8b5e240-42a2-4f42-88a7-5f80ba6df2c7"
      },
      "outputs": [
        {
          "data": {
            "text/plain": [
              "1.0"
            ]
          },
          "execution_count": 14,
          "metadata": {},
          "output_type": "execute_result"
        }
      ],
      "source": [
        "svc = SVC(kernel='linear')\n",
        "svc.fit(X_train,y_train)\n",
        "ypred = svc.predict(X_test)\n",
        "accuracy_score(y_test,ypred)"
      ]
    },
    {
      "cell_type": "code",
      "execution_count": 15,
      "metadata": {
        "id": "A3PNtpIqBDwi"
      },
      "outputs": [],
      "source": [
        "import pickle\n",
        "pickle.dump(svc,open('svc.pkl','wb'))"
      ]
    },
    {
      "cell_type": "code",
      "execution_count": 16,
      "metadata": {
        "id": "ZVkBimEfB2rl"
      },
      "outputs": [],
      "source": [
        "# load model\n",
        "svc = pickle.load(open('svc.pkl','rb'))"
      ]
    },
    {
      "cell_type": "code",
      "execution_count": 17,
      "metadata": {
        "colab": {
          "base_uri": "https://localhost:8080/"
        },
        "id": "7CKwcSujB6A8",
        "outputId": "08ce9415-6bfe-4909-cbce-f48193c43629"
      },
      "outputs": [
        {
          "name": "stdout",
          "output_type": "stream",
          "text": [
            "predicted disease : [40]\n",
            "Actual Disease : 40\n"
          ]
        },
        {
          "name": "stderr",
          "output_type": "stream",
          "text": [
            "d:\\Python311\\Lib\\site-packages\\sklearn\\base.py:439: UserWarning: X does not have valid feature names, but SVC was fitted with feature names\n",
            "  warnings.warn(\n"
          ]
        }
      ],
      "source": [
        "# test 1:\n",
        "print(\"predicted disease :\",svc.predict(X_test.iloc[0].values.reshape(1,-1)))\n",
        "print(\"Actual Disease :\", y_test[0])"
      ]
    },
    {
      "cell_type": "code",
      "execution_count": null,
      "metadata": {
        "id": "ZhHFiCSrB-66"
      },
      "outputs": [],
      "source": []
    },
    {
      "cell_type": "markdown",
      "metadata": {
        "id": "lNIQ-XryCILj"
      },
      "source": [
        "# **Recommendation System and** **Prediction**"
      ]
    },
    {
      "cell_type": "code",
      "execution_count": 18,
      "metadata": {
        "colab": {
          "base_uri": "https://localhost:8080/"
        },
        "id": "yT9PGCQb-M9r",
        "outputId": "b2a0ec8e-fdb5-456a-fa57-bdf30d810217"
      },
      "outputs": [
        {
          "data": {
            "text/plain": [
              "Index(['itching', 'skin_rash', 'nodal_skin_eruptions', 'continuous_sneezing',\n",
              "       'shivering', 'chills', 'joint_pain', 'stomach_pain', 'acidity',\n",
              "       'ulcers_on_tongue',\n",
              "       ...\n",
              "       'pus_filled_pimples', 'blackheads', 'scurring', 'skin_peeling',\n",
              "       'silver_like_dusting', 'small_dents_in_nails', 'inflammatory_nails',\n",
              "       'blister', 'red_sore_around_nose', 'yellow_crust_ooze'],\n",
              "      dtype='object', length=132)"
            ]
          },
          "execution_count": 18,
          "metadata": {},
          "output_type": "execute_result"
        }
      ],
      "source": [
        "dataset.columns[:-1]"
      ]
    },
    {
      "cell_type": "code",
      "execution_count": null,
      "metadata": {
        "id": "bKKNHl8YMqid"
      },
      "outputs": [],
      "source": []
    },
    {
      "cell_type": "code",
      "execution_count": 19,
      "metadata": {
        "colab": {
          "base_uri": "https://localhost:8080/"
        },
        "id": "yxOL-CR6N2yj",
        "outputId": "fd68f0a7-2c64-48d3-d868-ebd4203dee75"
      },
      "outputs": [
        {
          "data": {
            "text/plain": [
              "4920"
            ]
          },
          "execution_count": 19,
          "metadata": {},
          "output_type": "execute_result"
        }
      ],
      "source": [
        "len((dataset.prognosis))"
      ]
    },
    {
      "cell_type": "code",
      "execution_count": 20,
      "metadata": {
        "colab": {
          "base_uri": "https://localhost:8080/"
        },
        "id": "T4_fGBSOCQpe",
        "outputId": "91646eef-3149-4d30-fac1-52a062cbc290"
      },
      "outputs": [
        {
          "data": {
            "text/plain": [
              "{'itching': 0,\n",
              " 'skin_rash': 1,\n",
              " 'nodal_skin_eruptions': 2,\n",
              " 'continuous_sneezing': 3,\n",
              " 'shivering': 4,\n",
              " 'chills': 5,\n",
              " 'joint_pain': 6,\n",
              " 'stomach_pain': 7,\n",
              " 'acidity': 8,\n",
              " 'ulcers_on_tongue': 9,\n",
              " 'muscle_wasting': 10,\n",
              " 'vomiting': 11,\n",
              " 'burning_micturition': 12,\n",
              " 'spotting_ urination': 13,\n",
              " 'fatigue': 14,\n",
              " 'weight_gain': 15,\n",
              " 'anxiety': 16,\n",
              " 'cold_hands_and_feets': 17,\n",
              " 'mood_swings': 18,\n",
              " 'weight_loss': 19,\n",
              " 'restlessness': 20,\n",
              " 'lethargy': 21,\n",
              " 'patches_in_throat': 22,\n",
              " 'irregular_sugar_level': 23,\n",
              " 'cough': 24,\n",
              " 'high_fever': 25,\n",
              " 'sunken_eyes': 26,\n",
              " 'breathlessness': 27,\n",
              " 'sweating': 28,\n",
              " 'dehydration': 29,\n",
              " 'indigestion': 30,\n",
              " 'headache': 31,\n",
              " 'yellowish_skin': 32,\n",
              " 'dark_urine': 33,\n",
              " 'nausea': 34,\n",
              " 'loss_of_appetite': 35,\n",
              " 'pain_behind_the_eyes': 36,\n",
              " 'back_pain': 37,\n",
              " 'constipation': 38,\n",
              " 'abdominal_pain': 39,\n",
              " 'diarrhoea': 40,\n",
              " 'mild_fever': 41,\n",
              " 'yellow_urine': 42,\n",
              " 'yellowing_of_eyes': 43,\n",
              " 'acute_liver_failure': 44,\n",
              " 'fluid_overload': 45,\n",
              " 'swelling_of_stomach': 46,\n",
              " 'swelled_lymph_nodes': 47,\n",
              " 'malaise': 48,\n",
              " 'blurred_and_distorted_vision': 49,\n",
              " 'phlegm': 50,\n",
              " 'throat_irritation': 51,\n",
              " 'redness_of_eyes': 52,\n",
              " 'sinus_pressure': 53,\n",
              " 'runny_nose': 54,\n",
              " 'congestion': 55,\n",
              " 'chest_pain': 56,\n",
              " 'weakness_in_limbs': 57,\n",
              " 'fast_heart_rate': 58,\n",
              " 'pain_during_bowel_movements': 59,\n",
              " 'pain_in_anal_region': 60,\n",
              " 'bloody_stool': 61,\n",
              " 'irritation_in_anus': 62,\n",
              " 'neck_pain': 63,\n",
              " 'dizziness': 64,\n",
              " 'cramps': 65,\n",
              " 'bruising': 66,\n",
              " 'obesity': 67,\n",
              " 'swollen_legs': 68,\n",
              " 'swollen_blood_vessels': 69,\n",
              " 'puffy_face_and_eyes': 70,\n",
              " 'enlarged_thyroid': 71,\n",
              " 'brittle_nails': 72,\n",
              " 'swollen_extremeties': 73,\n",
              " 'excessive_hunger': 74,\n",
              " 'extra_marital_contacts': 75,\n",
              " 'drying_and_tingling_lips': 76,\n",
              " 'slurred_speech': 77,\n",
              " 'knee_pain': 78,\n",
              " 'hip_joint_pain': 79,\n",
              " 'muscle_weakness': 80,\n",
              " 'stiff_neck': 81,\n",
              " 'swelling_joints': 82,\n",
              " 'movement_stiffness': 83,\n",
              " 'spinning_movements': 84,\n",
              " 'loss_of_balance': 85,\n",
              " 'unsteadiness': 86,\n",
              " 'weakness_of_one_body_side': 87,\n",
              " 'loss_of_smell': 88,\n",
              " 'bladder_discomfort': 89,\n",
              " 'foul_smell_of urine': 90,\n",
              " 'continuous_feel_of_urine': 91,\n",
              " 'passage_of_gases': 92,\n",
              " 'internal_itching': 93,\n",
              " 'toxic_look_(typhos)': 94,\n",
              " 'depression': 95,\n",
              " 'irritability': 96,\n",
              " 'muscle_pain': 97,\n",
              " 'altered_sensorium': 98,\n",
              " 'red_spots_over_body': 99,\n",
              " 'belly_pain': 100,\n",
              " 'abnormal_menstruation': 101,\n",
              " 'dischromic _patches': 102,\n",
              " 'watering_from_eyes': 103,\n",
              " 'increased_appetite': 104,\n",
              " 'polyuria': 105,\n",
              " 'family_history': 106,\n",
              " 'mucoid_sputum': 107,\n",
              " 'rusty_sputum': 108,\n",
              " 'lack_of_concentration': 109,\n",
              " 'visual_disturbances': 110,\n",
              " 'receiving_blood_transfusion': 111,\n",
              " 'receiving_unsterile_injections': 112,\n",
              " 'coma': 113,\n",
              " 'stomach_bleeding': 114,\n",
              " 'distention_of_abdomen': 115,\n",
              " 'history_of_alcohol_consumption': 116,\n",
              " 'fluid_overload.1': 117,\n",
              " 'blood_in_sputum': 118,\n",
              " 'prominent_veins_on_calf': 119,\n",
              " 'palpitations': 120,\n",
              " 'painful_walking': 121,\n",
              " 'pus_filled_pimples': 122,\n",
              " 'blackheads': 123,\n",
              " 'scurring': 124,\n",
              " 'skin_peeling': 125,\n",
              " 'silver_like_dusting': 126,\n",
              " 'small_dents_in_nails': 127,\n",
              " 'inflammatory_nails': 128,\n",
              " 'blister': 129,\n",
              " 'red_sore_around_nose': 130,\n",
              " 'yellow_crust_ooze': 131}"
            ]
          },
          "execution_count": 20,
          "metadata": {},
          "output_type": "execute_result"
        }
      ],
      "source": [
        "symptoms_dict=dict(enumerate(dataset.columns[:-1]))\n",
        "\n",
        "symptoms_dict={i:v for v,i in symptoms_dict.items()}\n",
        "symptoms_dict"
      ]
    },
    {
      "cell_type": "code",
      "execution_count": 21,
      "metadata": {
        "colab": {
          "base_uri": "https://localhost:8080/"
        },
        "id": "ScbI1aWj_Zoy",
        "outputId": "f91a888e-6076-47e3-9c12-7dc2000deefc"
      },
      "outputs": [
        {
          "data": {
            "text/plain": [
              "Index(['itching', 'skin_rash', 'nodal_skin_eruptions', 'continuous_sneezing',\n",
              "       'shivering', 'chills', 'joint_pain', 'stomach_pain', 'acidity',\n",
              "       'ulcers_on_tongue',\n",
              "       ...\n",
              "       'pus_filled_pimples', 'blackheads', 'scurring', 'skin_peeling',\n",
              "       'silver_like_dusting', 'small_dents_in_nails', 'inflammatory_nails',\n",
              "       'blister', 'red_sore_around_nose', 'yellow_crust_ooze'],\n",
              "      dtype='object', length=132)"
            ]
          },
          "execution_count": 21,
          "metadata": {},
          "output_type": "execute_result"
        }
      ],
      "source": [
        "dataset.columns[:-1]"
      ]
    },
    {
      "cell_type": "code",
      "execution_count": 22,
      "metadata": {
        "id": "86O2coCkDrLP"
      },
      "outputs": [],
      "source": [
        "y=list(set(dataset['prognosis']))"
      ]
    },
    {
      "cell_type": "code",
      "execution_count": 23,
      "metadata": {
        "id": "tfrJcoaO-dHL"
      },
      "outputs": [],
      "source": [
        "from sklearn.preprocessing import LabelEncoder\n",
        "le=LabelEncoder()\n",
        "le.fit(dataset['prognosis'])\n",
        "y1=le.transform(y)\n",
        "diseases_list=dict(zip(y1,y))"
      ]
    },
    {
      "cell_type": "code",
      "execution_count": 24,
      "metadata": {
        "colab": {
          "base_uri": "https://localhost:8080/"
        },
        "id": "V0JMJD37FnS4",
        "outputId": "72db0fb4-eb50-4869-8560-4a12f5b40b6d"
      },
      "outputs": [
        {
          "data": {
            "text/plain": [
              "{25: 'Hypoglycemia',\n",
              " 34: 'Pneumonia',\n",
              " 17: 'Gastroenteritis',\n",
              " 18: 'Heart attack',\n",
              " 39: 'Varicose veins',\n",
              " 9: 'Chronic cholestasis',\n",
              " 22: 'Hepatitis E',\n",
              " 36: 'Tuberculosis',\n",
              " 7: 'Cervical spondylosis',\n",
              " 23: 'Hypertension ',\n",
              " 21: 'Hepatitis D',\n",
              " 31: 'Osteoarthristis',\n",
              " 40: 'hepatitis A',\n",
              " 20: 'Hepatitis C',\n",
              " 5: 'Arthritis',\n",
              " 1: 'AIDS',\n",
              " 15: 'Fungal infection',\n",
              " 16: 'GERD',\n",
              " 6: 'Bronchial Asthma',\n",
              " 28: 'Jaundice',\n",
              " 24: 'Hyperthyroidism',\n",
              " 38: 'Urinary tract infection',\n",
              " 30: 'Migraine',\n",
              " 19: 'Hepatitis B',\n",
              " 8: 'Chicken pox',\n",
              " 35: 'Psoriasis',\n",
              " 13: 'Dimorphic hemmorhoids(piles)',\n",
              " 0: '(vertigo) Paroymsal  Positional Vertigo',\n",
              " 10: 'Common Cold',\n",
              " 27: 'Impetigo',\n",
              " 29: 'Malaria',\n",
              " 2: 'Acne',\n",
              " 3: 'Alcoholic hepatitis',\n",
              " 12: 'Diabetes ',\n",
              " 4: 'Allergy',\n",
              " 11: 'Dengue',\n",
              " 14: 'Drug Reaction',\n",
              " 26: 'Hypothyroidism',\n",
              " 33: 'Peptic ulcer diseae',\n",
              " 37: 'Typhoid',\n",
              " 32: 'Paralysis (brain hemorrhage)'}"
            ]
          },
          "execution_count": 24,
          "metadata": {},
          "output_type": "execute_result"
        }
      ],
      "source": [
        "diseases_list"
      ]
    },
    {
      "cell_type": "code",
      "execution_count": 25,
      "metadata": {
        "colab": {
          "base_uri": "https://localhost:8080/"
        },
        "id": "eIyWrX9CJNpK",
        "outputId": "9613930e-1604-41e7-8aa2-3494c53c4ecf"
      },
      "outputs": [
        {
          "data": {
            "text/plain": [
              "132"
            ]
          },
          "execution_count": 25,
          "metadata": {},
          "output_type": "execute_result"
        }
      ],
      "source": [
        "len(symptoms_dict)"
      ]
    },
    {
      "cell_type": "code",
      "execution_count": 26,
      "metadata": {
        "id": "VBXjBVARFpjZ"
      },
      "outputs": [],
      "source": [
        "def get_predicted_value(patient_symtomps):\n",
        "  input_vector=np.zeros(len(symptoms_dict))\n",
        "  for item in patient_symtomps:\n",
        "    input_vector[symptoms_dict[item]]=1\n",
        "  return diseases_list[svc.predict(input_vector.reshape(1,-1))[0]]"
      ]
    },
    {
      "cell_type": "code",
      "execution_count": null,
      "metadata": {
        "id": "cbEZEBA7HD_x"
      },
      "outputs": [],
      "source": []
    },
    {
      "cell_type": "code",
      "execution_count": null,
      "metadata": {
        "id": "r-0K7Ae6HfM_"
      },
      "outputs": [],
      "source": []
    },
    {
      "cell_type": "code",
      "execution_count": 27,
      "metadata": {
        "colab": {
          "base_uri": "https://localhost:8080/"
        },
        "id": "tBuoy6tLJ6KX",
        "outputId": "35e30c5c-73ba-4982-f53e-037fa1c5a374"
      },
      "outputs": [
        {
          "data": {
            "text/plain": [
              "1"
            ]
          },
          "execution_count": 27,
          "metadata": {},
          "output_type": "execute_result"
        }
      ],
      "source": [
        "# symptoms_dict['Typhoid']\n",
        "symptoms_dict['skin_rash']"
      ]
    },
    {
      "cell_type": "code",
      "execution_count": 28,
      "metadata": {
        "colab": {
          "base_uri": "https://localhost:8080/"
        },
        "id": "BK_TglYnH2ZX",
        "outputId": "68afd291-ab3f-4b84-e95d-78f3add067f4"
      },
      "outputs": [
        {
          "name": "stderr",
          "output_type": "stream",
          "text": [
            "d:\\Python311\\Lib\\site-packages\\sklearn\\base.py:439: UserWarning: X does not have valid feature names, but SVC was fitted with feature names\n",
            "  warnings.warn(\n"
          ]
        }
      ],
      "source": [
        "\n",
        "pr=get_predicted_value(['skin_rash'])"
      ]
    },
    {
      "cell_type": "code",
      "execution_count": 29,
      "metadata": {
        "colab": {
          "base_uri": "https://localhost:8080/",
          "height": 36
        },
        "id": "hkA_nuEAQ4Lg",
        "outputId": "8e60d4ca-6f7b-465b-d2e2-5442d9dd5173"
      },
      "outputs": [
        {
          "data": {
            "text/plain": [
              "'Fungal infection'"
            ]
          },
          "execution_count": 29,
          "metadata": {},
          "output_type": "execute_result"
        }
      ],
      "source": [
        "pr"
      ]
    },
    {
      "cell_type": "code",
      "execution_count": null,
      "metadata": {
        "id": "iOM7G2syIfvb"
      },
      "outputs": [],
      "source": []
    },
    {
      "cell_type": "code",
      "execution_count": null,
      "metadata": {
        "colab": {
          "base_uri": "https://localhost:8080/",
          "height": 141
        },
        "id": "hvtj_QWtTxsT",
        "outputId": "74747ad4-cbbd-4f5e-9de2-be83cc48c8ab"
      },
      "outputs": [],
      "source": []
    },
    {
      "cell_type": "code",
      "execution_count": 30,
      "metadata": {
        "id": "civ-jVKWP73Y"
      },
      "outputs": [
        {
          "ename": "FileNotFoundError",
          "evalue": "[Errno 2] No such file or directory: '/content/Symptom-severity.csv'",
          "output_type": "error",
          "traceback": [
            "\u001b[1;31m---------------------------------------------------------------------------\u001b[0m",
            "\u001b[1;31mFileNotFoundError\u001b[0m                         Traceback (most recent call last)",
            "Cell \u001b[1;32mIn[30], line 1\u001b[0m\n\u001b[1;32m----> 1\u001b[0m symtom_severty\u001b[38;5;241m=\u001b[39m\u001b[43mpd\u001b[49m\u001b[38;5;241;43m.\u001b[39;49m\u001b[43mread_csv\u001b[49m\u001b[43m(\u001b[49m\u001b[38;5;124;43m'\u001b[39;49m\u001b[38;5;124;43m/content/Symptom-severity.csv\u001b[39;49m\u001b[38;5;124;43m'\u001b[39;49m\u001b[43m)\u001b[49m\n\u001b[0;32m      2\u001b[0m training\u001b[38;5;241m=\u001b[39mpd\u001b[38;5;241m.\u001b[39mread_csv(\u001b[38;5;124m'\u001b[39m\u001b[38;5;124m/content/Training.csv\u001b[39m\u001b[38;5;124m'\u001b[39m)\n\u001b[0;32m      3\u001b[0m discription\u001b[38;5;241m=\u001b[39mpd\u001b[38;5;241m.\u001b[39mread_csv(\u001b[38;5;124m'\u001b[39m\u001b[38;5;124m/content/description.csv\u001b[39m\u001b[38;5;124m'\u001b[39m)\n",
            "File \u001b[1;32md:\\Python311\\Lib\\site-packages\\pandas\\util\\_decorators.py:211\u001b[0m, in \u001b[0;36mdeprecate_kwarg.<locals>._deprecate_kwarg.<locals>.wrapper\u001b[1;34m(*args, **kwargs)\u001b[0m\n\u001b[0;32m    209\u001b[0m     \u001b[38;5;28;01melse\u001b[39;00m:\n\u001b[0;32m    210\u001b[0m         kwargs[new_arg_name] \u001b[38;5;241m=\u001b[39m new_arg_value\n\u001b[1;32m--> 211\u001b[0m \u001b[38;5;28;01mreturn\u001b[39;00m \u001b[43mfunc\u001b[49m\u001b[43m(\u001b[49m\u001b[38;5;241;43m*\u001b[39;49m\u001b[43margs\u001b[49m\u001b[43m,\u001b[49m\u001b[43m \u001b[49m\u001b[38;5;241;43m*\u001b[39;49m\u001b[38;5;241;43m*\u001b[39;49m\u001b[43mkwargs\u001b[49m\u001b[43m)\u001b[49m\n",
            "File \u001b[1;32md:\\Python311\\Lib\\site-packages\\pandas\\util\\_decorators.py:331\u001b[0m, in \u001b[0;36mdeprecate_nonkeyword_arguments.<locals>.decorate.<locals>.wrapper\u001b[1;34m(*args, **kwargs)\u001b[0m\n\u001b[0;32m    325\u001b[0m \u001b[38;5;28;01mif\u001b[39;00m \u001b[38;5;28mlen\u001b[39m(args) \u001b[38;5;241m>\u001b[39m num_allow_args:\n\u001b[0;32m    326\u001b[0m     warnings\u001b[38;5;241m.\u001b[39mwarn(\n\u001b[0;32m    327\u001b[0m         msg\u001b[38;5;241m.\u001b[39mformat(arguments\u001b[38;5;241m=\u001b[39m_format_argument_list(allow_args)),\n\u001b[0;32m    328\u001b[0m         \u001b[38;5;167;01mFutureWarning\u001b[39;00m,\n\u001b[0;32m    329\u001b[0m         stacklevel\u001b[38;5;241m=\u001b[39mfind_stack_level(),\n\u001b[0;32m    330\u001b[0m     )\n\u001b[1;32m--> 331\u001b[0m \u001b[38;5;28;01mreturn\u001b[39;00m \u001b[43mfunc\u001b[49m\u001b[43m(\u001b[49m\u001b[38;5;241;43m*\u001b[39;49m\u001b[43margs\u001b[49m\u001b[43m,\u001b[49m\u001b[43m \u001b[49m\u001b[38;5;241;43m*\u001b[39;49m\u001b[38;5;241;43m*\u001b[39;49m\u001b[43mkwargs\u001b[49m\u001b[43m)\u001b[49m\n",
            "File \u001b[1;32md:\\Python311\\Lib\\site-packages\\pandas\\io\\parsers\\readers.py:950\u001b[0m, in \u001b[0;36mread_csv\u001b[1;34m(filepath_or_buffer, sep, delimiter, header, names, index_col, usecols, squeeze, prefix, mangle_dupe_cols, dtype, engine, converters, true_values, false_values, skipinitialspace, skiprows, skipfooter, nrows, na_values, keep_default_na, na_filter, verbose, skip_blank_lines, parse_dates, infer_datetime_format, keep_date_col, date_parser, dayfirst, cache_dates, iterator, chunksize, compression, thousands, decimal, lineterminator, quotechar, quoting, doublequote, escapechar, comment, encoding, encoding_errors, dialect, error_bad_lines, warn_bad_lines, on_bad_lines, delim_whitespace, low_memory, memory_map, float_precision, storage_options)\u001b[0m\n\u001b[0;32m    935\u001b[0m kwds_defaults \u001b[38;5;241m=\u001b[39m _refine_defaults_read(\n\u001b[0;32m    936\u001b[0m     dialect,\n\u001b[0;32m    937\u001b[0m     delimiter,\n\u001b[1;32m   (...)\u001b[0m\n\u001b[0;32m    946\u001b[0m     defaults\u001b[38;5;241m=\u001b[39m{\u001b[38;5;124m\"\u001b[39m\u001b[38;5;124mdelimiter\u001b[39m\u001b[38;5;124m\"\u001b[39m: \u001b[38;5;124m\"\u001b[39m\u001b[38;5;124m,\u001b[39m\u001b[38;5;124m\"\u001b[39m},\n\u001b[0;32m    947\u001b[0m )\n\u001b[0;32m    948\u001b[0m kwds\u001b[38;5;241m.\u001b[39mupdate(kwds_defaults)\n\u001b[1;32m--> 950\u001b[0m \u001b[38;5;28;01mreturn\u001b[39;00m \u001b[43m_read\u001b[49m\u001b[43m(\u001b[49m\u001b[43mfilepath_or_buffer\u001b[49m\u001b[43m,\u001b[49m\u001b[43m \u001b[49m\u001b[43mkwds\u001b[49m\u001b[43m)\u001b[49m\n",
            "File \u001b[1;32md:\\Python311\\Lib\\site-packages\\pandas\\io\\parsers\\readers.py:605\u001b[0m, in \u001b[0;36m_read\u001b[1;34m(filepath_or_buffer, kwds)\u001b[0m\n\u001b[0;32m    602\u001b[0m _validate_names(kwds\u001b[38;5;241m.\u001b[39mget(\u001b[38;5;124m\"\u001b[39m\u001b[38;5;124mnames\u001b[39m\u001b[38;5;124m\"\u001b[39m, \u001b[38;5;28;01mNone\u001b[39;00m))\n\u001b[0;32m    604\u001b[0m \u001b[38;5;66;03m# Create the parser.\u001b[39;00m\n\u001b[1;32m--> 605\u001b[0m parser \u001b[38;5;241m=\u001b[39m \u001b[43mTextFileReader\u001b[49m\u001b[43m(\u001b[49m\u001b[43mfilepath_or_buffer\u001b[49m\u001b[43m,\u001b[49m\u001b[43m \u001b[49m\u001b[38;5;241;43m*\u001b[39;49m\u001b[38;5;241;43m*\u001b[39;49m\u001b[43mkwds\u001b[49m\u001b[43m)\u001b[49m\n\u001b[0;32m    607\u001b[0m \u001b[38;5;28;01mif\u001b[39;00m chunksize \u001b[38;5;129;01mor\u001b[39;00m iterator:\n\u001b[0;32m    608\u001b[0m     \u001b[38;5;28;01mreturn\u001b[39;00m parser\n",
            "File \u001b[1;32md:\\Python311\\Lib\\site-packages\\pandas\\io\\parsers\\readers.py:1442\u001b[0m, in \u001b[0;36mTextFileReader.__init__\u001b[1;34m(self, f, engine, **kwds)\u001b[0m\n\u001b[0;32m   1439\u001b[0m     \u001b[38;5;28mself\u001b[39m\u001b[38;5;241m.\u001b[39moptions[\u001b[38;5;124m\"\u001b[39m\u001b[38;5;124mhas_index_names\u001b[39m\u001b[38;5;124m\"\u001b[39m] \u001b[38;5;241m=\u001b[39m kwds[\u001b[38;5;124m\"\u001b[39m\u001b[38;5;124mhas_index_names\u001b[39m\u001b[38;5;124m\"\u001b[39m]\n\u001b[0;32m   1441\u001b[0m \u001b[38;5;28mself\u001b[39m\u001b[38;5;241m.\u001b[39mhandles: IOHandles \u001b[38;5;241m|\u001b[39m \u001b[38;5;28;01mNone\u001b[39;00m \u001b[38;5;241m=\u001b[39m \u001b[38;5;28;01mNone\u001b[39;00m\n\u001b[1;32m-> 1442\u001b[0m \u001b[38;5;28mself\u001b[39m\u001b[38;5;241m.\u001b[39m_engine \u001b[38;5;241m=\u001b[39m \u001b[38;5;28;43mself\u001b[39;49m\u001b[38;5;241;43m.\u001b[39;49m\u001b[43m_make_engine\u001b[49m\u001b[43m(\u001b[49m\u001b[43mf\u001b[49m\u001b[43m,\u001b[49m\u001b[43m \u001b[49m\u001b[38;5;28;43mself\u001b[39;49m\u001b[38;5;241;43m.\u001b[39;49m\u001b[43mengine\u001b[49m\u001b[43m)\u001b[49m\n",
            "File \u001b[1;32md:\\Python311\\Lib\\site-packages\\pandas\\io\\parsers\\readers.py:1735\u001b[0m, in \u001b[0;36mTextFileReader._make_engine\u001b[1;34m(self, f, engine)\u001b[0m\n\u001b[0;32m   1733\u001b[0m     \u001b[38;5;28;01mif\u001b[39;00m \u001b[38;5;124m\"\u001b[39m\u001b[38;5;124mb\u001b[39m\u001b[38;5;124m\"\u001b[39m \u001b[38;5;129;01mnot\u001b[39;00m \u001b[38;5;129;01min\u001b[39;00m mode:\n\u001b[0;32m   1734\u001b[0m         mode \u001b[38;5;241m+\u001b[39m\u001b[38;5;241m=\u001b[39m \u001b[38;5;124m\"\u001b[39m\u001b[38;5;124mb\u001b[39m\u001b[38;5;124m\"\u001b[39m\n\u001b[1;32m-> 1735\u001b[0m \u001b[38;5;28mself\u001b[39m\u001b[38;5;241m.\u001b[39mhandles \u001b[38;5;241m=\u001b[39m \u001b[43mget_handle\u001b[49m\u001b[43m(\u001b[49m\n\u001b[0;32m   1736\u001b[0m \u001b[43m    \u001b[49m\u001b[43mf\u001b[49m\u001b[43m,\u001b[49m\n\u001b[0;32m   1737\u001b[0m \u001b[43m    \u001b[49m\u001b[43mmode\u001b[49m\u001b[43m,\u001b[49m\n\u001b[0;32m   1738\u001b[0m \u001b[43m    \u001b[49m\u001b[43mencoding\u001b[49m\u001b[38;5;241;43m=\u001b[39;49m\u001b[38;5;28;43mself\u001b[39;49m\u001b[38;5;241;43m.\u001b[39;49m\u001b[43moptions\u001b[49m\u001b[38;5;241;43m.\u001b[39;49m\u001b[43mget\u001b[49m\u001b[43m(\u001b[49m\u001b[38;5;124;43m\"\u001b[39;49m\u001b[38;5;124;43mencoding\u001b[39;49m\u001b[38;5;124;43m\"\u001b[39;49m\u001b[43m,\u001b[49m\u001b[43m \u001b[49m\u001b[38;5;28;43;01mNone\u001b[39;49;00m\u001b[43m)\u001b[49m\u001b[43m,\u001b[49m\n\u001b[0;32m   1739\u001b[0m \u001b[43m    \u001b[49m\u001b[43mcompression\u001b[49m\u001b[38;5;241;43m=\u001b[39;49m\u001b[38;5;28;43mself\u001b[39;49m\u001b[38;5;241;43m.\u001b[39;49m\u001b[43moptions\u001b[49m\u001b[38;5;241;43m.\u001b[39;49m\u001b[43mget\u001b[49m\u001b[43m(\u001b[49m\u001b[38;5;124;43m\"\u001b[39;49m\u001b[38;5;124;43mcompression\u001b[39;49m\u001b[38;5;124;43m\"\u001b[39;49m\u001b[43m,\u001b[49m\u001b[43m \u001b[49m\u001b[38;5;28;43;01mNone\u001b[39;49;00m\u001b[43m)\u001b[49m\u001b[43m,\u001b[49m\n\u001b[0;32m   1740\u001b[0m \u001b[43m    \u001b[49m\u001b[43mmemory_map\u001b[49m\u001b[38;5;241;43m=\u001b[39;49m\u001b[38;5;28;43mself\u001b[39;49m\u001b[38;5;241;43m.\u001b[39;49m\u001b[43moptions\u001b[49m\u001b[38;5;241;43m.\u001b[39;49m\u001b[43mget\u001b[49m\u001b[43m(\u001b[49m\u001b[38;5;124;43m\"\u001b[39;49m\u001b[38;5;124;43mmemory_map\u001b[39;49m\u001b[38;5;124;43m\"\u001b[39;49m\u001b[43m,\u001b[49m\u001b[43m \u001b[49m\u001b[38;5;28;43;01mFalse\u001b[39;49;00m\u001b[43m)\u001b[49m\u001b[43m,\u001b[49m\n\u001b[0;32m   1741\u001b[0m \u001b[43m    \u001b[49m\u001b[43mis_text\u001b[49m\u001b[38;5;241;43m=\u001b[39;49m\u001b[43mis_text\u001b[49m\u001b[43m,\u001b[49m\n\u001b[0;32m   1742\u001b[0m \u001b[43m    \u001b[49m\u001b[43merrors\u001b[49m\u001b[38;5;241;43m=\u001b[39;49m\u001b[38;5;28;43mself\u001b[39;49m\u001b[38;5;241;43m.\u001b[39;49m\u001b[43moptions\u001b[49m\u001b[38;5;241;43m.\u001b[39;49m\u001b[43mget\u001b[49m\u001b[43m(\u001b[49m\u001b[38;5;124;43m\"\u001b[39;49m\u001b[38;5;124;43mencoding_errors\u001b[39;49m\u001b[38;5;124;43m\"\u001b[39;49m\u001b[43m,\u001b[49m\u001b[43m \u001b[49m\u001b[38;5;124;43m\"\u001b[39;49m\u001b[38;5;124;43mstrict\u001b[39;49m\u001b[38;5;124;43m\"\u001b[39;49m\u001b[43m)\u001b[49m\u001b[43m,\u001b[49m\n\u001b[0;32m   1743\u001b[0m \u001b[43m    \u001b[49m\u001b[43mstorage_options\u001b[49m\u001b[38;5;241;43m=\u001b[39;49m\u001b[38;5;28;43mself\u001b[39;49m\u001b[38;5;241;43m.\u001b[39;49m\u001b[43moptions\u001b[49m\u001b[38;5;241;43m.\u001b[39;49m\u001b[43mget\u001b[49m\u001b[43m(\u001b[49m\u001b[38;5;124;43m\"\u001b[39;49m\u001b[38;5;124;43mstorage_options\u001b[39;49m\u001b[38;5;124;43m\"\u001b[39;49m\u001b[43m,\u001b[49m\u001b[43m \u001b[49m\u001b[38;5;28;43;01mNone\u001b[39;49;00m\u001b[43m)\u001b[49m\u001b[43m,\u001b[49m\n\u001b[0;32m   1744\u001b[0m \u001b[43m\u001b[49m\u001b[43m)\u001b[49m\n\u001b[0;32m   1745\u001b[0m \u001b[38;5;28;01massert\u001b[39;00m \u001b[38;5;28mself\u001b[39m\u001b[38;5;241m.\u001b[39mhandles \u001b[38;5;129;01mis\u001b[39;00m \u001b[38;5;129;01mnot\u001b[39;00m \u001b[38;5;28;01mNone\u001b[39;00m\n\u001b[0;32m   1746\u001b[0m f \u001b[38;5;241m=\u001b[39m \u001b[38;5;28mself\u001b[39m\u001b[38;5;241m.\u001b[39mhandles\u001b[38;5;241m.\u001b[39mhandle\n",
            "File \u001b[1;32md:\\Python311\\Lib\\site-packages\\pandas\\io\\common.py:856\u001b[0m, in \u001b[0;36mget_handle\u001b[1;34m(path_or_buf, mode, encoding, compression, memory_map, is_text, errors, storage_options)\u001b[0m\n\u001b[0;32m    851\u001b[0m \u001b[38;5;28;01melif\u001b[39;00m \u001b[38;5;28misinstance\u001b[39m(handle, \u001b[38;5;28mstr\u001b[39m):\n\u001b[0;32m    852\u001b[0m     \u001b[38;5;66;03m# Check whether the filename is to be opened in binary mode.\u001b[39;00m\n\u001b[0;32m    853\u001b[0m     \u001b[38;5;66;03m# Binary mode does not support 'encoding' and 'newline'.\u001b[39;00m\n\u001b[0;32m    854\u001b[0m     \u001b[38;5;28;01mif\u001b[39;00m ioargs\u001b[38;5;241m.\u001b[39mencoding \u001b[38;5;129;01mand\u001b[39;00m \u001b[38;5;124m\"\u001b[39m\u001b[38;5;124mb\u001b[39m\u001b[38;5;124m\"\u001b[39m \u001b[38;5;129;01mnot\u001b[39;00m \u001b[38;5;129;01min\u001b[39;00m ioargs\u001b[38;5;241m.\u001b[39mmode:\n\u001b[0;32m    855\u001b[0m         \u001b[38;5;66;03m# Encoding\u001b[39;00m\n\u001b[1;32m--> 856\u001b[0m         handle \u001b[38;5;241m=\u001b[39m \u001b[38;5;28mopen\u001b[39m(\n\u001b[0;32m    857\u001b[0m             handle,\n\u001b[0;32m    858\u001b[0m             ioargs\u001b[38;5;241m.\u001b[39mmode,\n\u001b[0;32m    859\u001b[0m             encoding\u001b[38;5;241m=\u001b[39mioargs\u001b[38;5;241m.\u001b[39mencoding,\n\u001b[0;32m    860\u001b[0m             errors\u001b[38;5;241m=\u001b[39merrors,\n\u001b[0;32m    861\u001b[0m             newline\u001b[38;5;241m=\u001b[39m\u001b[38;5;124m\"\u001b[39m\u001b[38;5;124m\"\u001b[39m,\n\u001b[0;32m    862\u001b[0m         )\n\u001b[0;32m    863\u001b[0m     \u001b[38;5;28;01melse\u001b[39;00m:\n\u001b[0;32m    864\u001b[0m         \u001b[38;5;66;03m# Binary mode\u001b[39;00m\n\u001b[0;32m    865\u001b[0m         handle \u001b[38;5;241m=\u001b[39m \u001b[38;5;28mopen\u001b[39m(handle, ioargs\u001b[38;5;241m.\u001b[39mmode)\n",
            "\u001b[1;31mFileNotFoundError\u001b[0m: [Errno 2] No such file or directory: '/content/Symptom-severity.csv'"
          ]
        }
      ],
      "source": [
        "symtom_severty=pd.read_csv('/content/Symptom-severity.csv')\n",
        "training=pd.read_csv('/content/Training.csv')\n",
        "discription=pd.read_csv('/content/description.csv')\n",
        "diet=pd.read_csv('/content/diets.csv')\n",
        "medication=pd.read_csv('/content/medications.csv')\n",
        "symtopm_df=pd.read_csv('/content/symtoms_df.csv')\n",
        "work_out=pd.read_csv('/content/workout_df.csv')\n",
        "precaution=pd.read_csv('/content/precautions_df.csv')"
      ]
    },
    {
      "cell_type": "code",
      "execution_count": 32,
      "metadata": {
        "colab": {
          "base_uri": "https://localhost:8080/",
          "height": 36
        },
        "id": "3cdmwi7VQJrw",
        "outputId": "1d42167f-0b32-4a50-f46b-065778101ac9"
      },
      "outputs": [
        {
          "ename": "NameError",
          "evalue": "name 'discription' is not defined",
          "output_type": "error",
          "traceback": [
            "\u001b[1;31m---------------------------------------------------------------------------\u001b[0m",
            "\u001b[1;31mNameError\u001b[0m                                 Traceback (most recent call last)",
            "Cell \u001b[1;32mIn[32], line 1\u001b[0m\n\u001b[1;32m----> 1\u001b[0m description\u001b[38;5;241m=\u001b[39m\u001b[43mdiscription\u001b[49m[discription[\u001b[38;5;124m'\u001b[39m\u001b[38;5;124mDisease\u001b[39m\u001b[38;5;124m'\u001b[39m]\u001b[38;5;241m==\u001b[39mpr][\u001b[38;5;124m'\u001b[39m\u001b[38;5;124mDescription\u001b[39m\u001b[38;5;124m'\u001b[39m]\n\u001b[0;32m      2\u001b[0m desc\u001b[38;5;241m=\u001b[39m\u001b[38;5;124m\"\u001b[39m\u001b[38;5;124m\"\u001b[39m\u001b[38;5;241m.\u001b[39mjoin(w \u001b[38;5;28;01mfor\u001b[39;00m w \u001b[38;5;129;01min\u001b[39;00m description)\n\u001b[0;32m      3\u001b[0m desc\n",
            "\u001b[1;31mNameError\u001b[0m: name 'discription' is not defined"
          ]
        }
      ],
      "source": [
        "description=discription[discription['Disease']==pr]['Description']\n",
        "desc=\"\".join(w for w in description)\n",
        "desc"
      ]
    },
    {
      "cell_type": "code",
      "execution_count": 51,
      "metadata": {
        "colab": {
          "base_uri": "https://localhost:8080/",
          "height": 36
        },
        "id": "9XMYaindZHh5",
        "outputId": "0dd835d9-e6cd-415c-9708-3d3c37b2a335"
      },
      "outputs": [
        {
          "data": {
            "application/vnd.google.colaboratory.intrinsic+json": {
              "type": "string"
            },
            "text/plain": [
              "'Fungal infection'"
            ]
          },
          "execution_count": 51,
          "metadata": {},
          "output_type": "execute_result"
        }
      ],
      "source": [
        "pr"
      ]
    },
    {
      "cell_type": "code",
      "execution_count": 51,
      "metadata": {
        "id": "3_tFpSgkZWE0"
      },
      "outputs": [],
      "source": []
    },
    {
      "cell_type": "code",
      "execution_count": 33,
      "metadata": {
        "colab": {
          "base_uri": "https://localhost:8080/"
        },
        "id": "FbBx582dYUvM",
        "outputId": "5e044f77-a51b-41c0-e485-d878ebc44adb"
      },
      "outputs": [
        {
          "ename": "NameError",
          "evalue": "name 'precaution' is not defined",
          "output_type": "error",
          "traceback": [
            "\u001b[1;31m---------------------------------------------------------------------------\u001b[0m",
            "\u001b[1;31mNameError\u001b[0m                                 Traceback (most recent call last)",
            "Cell \u001b[1;32mIn[33], line 1\u001b[0m\n\u001b[1;32m----> 1\u001b[0m precaution1\u001b[38;5;241m=\u001b[39m\u001b[43mprecaution\u001b[49m[precaution[\u001b[38;5;124m'\u001b[39m\u001b[38;5;124mDisease\u001b[39m\u001b[38;5;124m'\u001b[39m]\u001b[38;5;241m==\u001b[39mpr]\u001b[38;5;241m.\u001b[39miloc[:,\u001b[38;5;241m2\u001b[39m:]\u001b[38;5;241m.\u001b[39mvalues\u001b[38;5;241m.\u001b[39mtolist()[\u001b[38;5;241m0\u001b[39m]\n\u001b[0;32m      2\u001b[0m precaution1\n",
            "\u001b[1;31mNameError\u001b[0m: name 'precaution' is not defined"
          ]
        }
      ],
      "source": [
        "precaution1=precaution[precaution['Disease']==pr].iloc[:,2:].values.tolist()[0]\n",
        "precaution1"
      ]
    },
    {
      "cell_type": "code",
      "execution_count": 53,
      "metadata": {
        "colab": {
          "base_uri": "https://localhost:8080/"
        },
        "id": "qMhbRb1OUDmF",
        "outputId": "ea892e7f-40c6-441e-acd9-9966fc900541"
      },
      "outputs": [
        {
          "data": {
            "text/plain": [
              "0    Fungal infection is a common skin condition ca...\n",
              "Name: Description, dtype: object"
            ]
          },
          "execution_count": 53,
          "metadata": {},
          "output_type": "execute_result"
        }
      ],
      "source": [
        "description"
      ]
    },
    {
      "cell_type": "code",
      "execution_count": 79,
      "metadata": {
        "colab": {
          "base_uri": "https://localhost:8080/"
        },
        "id": "Is5xKEMXdd7u",
        "outputId": "48521a89-11dc-4537-923c-f6781c0523dd"
      },
      "outputs": [
        {
          "data": {
            "text/plain": [
              "['Antifungal Diet', 'Probiotics', 'Garlic', 'Coconut oil', 'Turmeric']"
            ]
          },
          "execution_count": 79,
          "metadata": {},
          "output_type": "execute_result"
        }
      ],
      "source": [
        "die=diet[diet['Disease']==pr]['Diet']\n",
        "die=[die for die in die.values][0]\n",
        "die_list=die.replace('[', '').replace(']', '').split(', ')\n",
        "die_list = [die.replace(\"'\", \"\") for die in die_list]\n",
        "die_list"
      ]
    },
    {
      "cell_type": "code",
      "execution_count": null,
      "metadata": {
        "id": "6o5X6jkChdjO"
      },
      "outputs": [],
      "source": [
        "medication1=medication[medication['Disease']==pr]['Medication']\n",
        "medication1=[med for med in medication1.values][0]\n",
        "medication1.replace('[', '').replace(']', '').split(', ')\n",
        "med_list = [med.replace(\"'\", \"\") for med in med_list]\n",
        "\n",
        "print(med_list)"
      ]
    },
    {
      "cell_type": "code",
      "execution_count": 80,
      "metadata": {
        "id": "OgHY_gMxWOqv"
      },
      "outputs": [],
      "source": [
        "def helper(dis):\n",
        "  description=discription[discription['Disease']==pr]['Description']\n",
        "  desc=\"\".join(w for w in description)\n",
        "  precaution1=precaution[precaution['Disease']==pr].iloc[:,2:].values.tolist()[0]\n",
        "\n",
        "\n",
        "  medication1=medication[medication['Disease']==pr]['Medication']\n",
        "  medication1=[med for med in medication1.values][0]\n",
        "  med_list=medication1.replace('[', '').replace(']', '').split(', ')\n",
        "  med_list = [med.replace(\"'\", \"\") for med in med_list]\n",
        "\n",
        "  die=diet[diet['Disease']==pr]['Diet']\n",
        "  die=[die for die in die.values][0]\n",
        "  die_list=die.replace('[', '').replace(']', '').split(', ')\n",
        "  die_list = [die.replace(\"'\", \"\") for die in die_list]\n",
        "\n",
        "  wrkout = work_out[work_out['disease'] == dis] ['workout']\n",
        "  return desc,precaution1,med_list,die_list,wrkout\n"
      ]
    },
    {
      "cell_type": "code",
      "execution_count": 81,
      "metadata": {
        "colab": {
          "base_uri": "https://localhost:8080/"
        },
        "id": "oBpnTN1qZi75",
        "outputId": "bb0ba2c3-1129-4ffb-cb8a-cbbdad17bb70"
      },
      "outputs": [
        {
          "name": "stdout",
          "output_type": "stream",
          "text": [
            "Enter your symptoms.......skin_rash,yellow_urine\n"
          ]
        }
      ],
      "source": [
        "symptoms = input(\"Enter your symptoms.......\")\n",
        "user_symptoms = [s.strip() for s in symptoms.split(',')]\n"
      ]
    },
    {
      "cell_type": "code",
      "execution_count": 82,
      "metadata": {
        "colab": {
          "base_uri": "https://localhost:8080/"
        },
        "id": "Bje9ER57hp4z",
        "outputId": "d33ba210-6846-4bf5-a3a8-748c709dd644"
      },
      "outputs": [
        {
          "name": "stderr",
          "output_type": "stream",
          "text": [
            "/usr/local/lib/python3.10/dist-packages/sklearn/base.py:439: UserWarning: X does not have valid feature names, but SVC was fitted with feature names\n",
            "  warnings.warn(\n"
          ]
        }
      ],
      "source": [
        "user_symptoms = [symptom.strip(\"[]' \") for symptom in user_symptoms]\n",
        "predicted_disease = get_predicted_value(user_symptoms)"
      ]
    },
    {
      "cell_type": "code",
      "execution_count": 83,
      "metadata": {
        "id": "LqSWUrdih9L9"
      },
      "outputs": [],
      "source": [
        "desc,precaution1,med_list,die_list,wrkout=helper(predicted_disease)"
      ]
    },
    {
      "cell_type": "code",
      "execution_count": 85,
      "metadata": {
        "colab": {
          "base_uri": "https://localhost:8080/"
        },
        "id": "3mNALm1biaTN",
        "outputId": "e933373f-3581-49c5-dc41-5256e497fe72"
      },
      "outputs": [
        {
          "name": "stdout",
          "output_type": "stream",
          "text": [
            "Fungal infection\n"
          ]
        }
      ],
      "source": [
        "print(predicted_disease)"
      ]
    },
    {
      "cell_type": "code",
      "execution_count": 84,
      "metadata": {
        "colab": {
          "base_uri": "https://localhost:8080/"
        },
        "id": "cxGVNfRCcgPj",
        "outputId": "b0bf09b8-abde-42d1-b36a-66c39d37ae78"
      },
      "outputs": [
        {
          "name": "stdout",
          "output_type": "stream",
          "text": [
            "Fungal infection is a common skin condition caused by fungi.\n"
          ]
        }
      ],
      "source": [
        "print(desc)"
      ]
    },
    {
      "cell_type": "code",
      "execution_count": 86,
      "metadata": {
        "colab": {
          "base_uri": "https://localhost:8080/"
        },
        "id": "SQpo6A01f7ro",
        "outputId": "e6db43e1-7b14-4ba1-ca3e-b56c47540eae"
      },
      "outputs": [
        {
          "name": "stdout",
          "output_type": "stream",
          "text": [
            "1 :  bath twice\n",
            "2 :  use detol or neem in bathing water\n",
            "3 :  keep infected area dry\n",
            "4 :  use clean cloths\n"
          ]
        }
      ],
      "source": [
        "i=1\n",
        "for j in precaution1:\n",
        "  print(i,\": \",j)\n",
        "  i+=1"
      ]
    },
    {
      "cell_type": "code",
      "execution_count": 87,
      "metadata": {
        "colab": {
          "base_uri": "https://localhost:8080/"
        },
        "id": "-yx0tZUCiz7S",
        "outputId": "4bab488e-489e-4046-90ee-8436b85efce2"
      },
      "outputs": [
        {
          "name": "stdout",
          "output_type": "stream",
          "text": [
            "1 :  Antifungal Cream\n",
            "2 :  Fluconazole\n",
            "3 :  Terbinafine\n",
            "4 :  Clotrimazole\n",
            "5 :  Ketoconazole\n"
          ]
        }
      ],
      "source": [
        "i=1\n",
        "for j in med_list:\n",
        "  print(i,\": \",j)\n",
        "  i+=1"
      ]
    },
    {
      "cell_type": "code",
      "execution_count": 88,
      "metadata": {
        "colab": {
          "base_uri": "https://localhost:8080/"
        },
        "id": "EhWpvYxli6PY",
        "outputId": "04ea1c32-7991-42bd-bac2-1563e297bf19"
      },
      "outputs": [
        {
          "name": "stdout",
          "output_type": "stream",
          "text": [
            "1 :  Antifungal Diet\n",
            "2 :  Probiotics\n",
            "3 :  Garlic\n",
            "4 :  Coconut oil\n",
            "5 :  Turmeric\n"
          ]
        }
      ],
      "source": [
        "i=1\n",
        "for j in die_list:\n",
        "  print(i,\": \",j)\n",
        "  i+=1"
      ]
    },
    {
      "cell_type": "code",
      "execution_count": 89,
      "metadata": {
        "colab": {
          "base_uri": "https://localhost:8080/"
        },
        "id": "BIOLLU8wjCMQ",
        "outputId": "4e9a0f77-28c2-4f39-a3b3-504f3e9f4692"
      },
      "outputs": [
        {
          "name": "stdout",
          "output_type": "stream",
          "text": [
            "1 :  Avoid sugary foods\n",
            "2 :  Consume probiotics\n",
            "3 :  Increase intake of garlic\n",
            "4 :  Include yogurt in diet\n",
            "5 :  Limit processed foods\n",
            "6 :  Stay hydrated\n",
            "7 :  Consume green tea\n",
            "8 :  Eat foods rich in zinc\n",
            "9 :  Include turmeric in diet\n",
            "10 :  Eat fruits and vegetables\n"
          ]
        }
      ],
      "source": [
        "i=1\n",
        "for j in wrkout:\n",
        "  print(i,\": \",j)\n",
        "  i+=1"
      ]
    },
    {
      "cell_type": "code",
      "execution_count": null,
      "metadata": {
        "id": "5XkhhlBfjFwI"
      },
      "outputs": [],
      "source": []
    }
  ],
  "metadata": {
    "colab": {
      "provenance": []
    },
    "kernelspec": {
      "display_name": "Python 3",
      "name": "python3"
    },
    "language_info": {
      "codemirror_mode": {
        "name": "ipython",
        "version": 3
      },
      "file_extension": ".py",
      "mimetype": "text/x-python",
      "name": "python",
      "nbconvert_exporter": "python",
      "pygments_lexer": "ipython3",
      "version": "3.11.1"
    }
  },
  "nbformat": 4,
  "nbformat_minor": 0
}
